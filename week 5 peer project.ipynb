{
 "cells": [
  {
   "cell_type": "code",
   "execution_count": 6,
   "id": "72457a59",
   "metadata": {},
   "outputs": [
    {
     "name": "stdout",
     "output_type": "stream",
     "text": [
      "Enter the charge for food: $50\n",
      "Tip: $9.00\n",
      "Sales tax: $3.50\n",
      "Grand total: $62.50\n"
     ]
    }
   ],
   "source": [
    "# ASANKA HOTEL\n",
    "# tip calculator\n",
    "# customer is requested to enter charge for food \n",
    "charge_for_food = float(input(\"Please enter the charge for food: $\"))  \n",
    "\n",
    "# Calculate tip\n",
    "tip = charge_for_food * 0.18   \n",
    "#  calculate sales tax \n",
    "sales_tax = charge_for_food * 0.07\n",
    "# Calculate grand total\n",
    "grand_total = charge_for_food + tip + sales_tax\n",
    "\n",
    "# Output\n",
    "print(\"Tip: $%.2f\" % tip)\n",
    "print(\"Sales tax: $%.2f\" % sales_tax)\n",
    "print(\"Grand total: $%.2f\" % grand_total)\n",
    "\n"
   ]
  },
  {
   "cell_type": "code",
   "execution_count": null,
   "id": "86ad5cd0",
   "metadata": {},
   "outputs": [],
   "source": []
  },
  {
   "cell_type": "code",
   "execution_count": null,
   "id": "ca9e6b90",
   "metadata": {},
   "outputs": [],
   "source": []
  },
  {
   "cell_type": "code",
   "execution_count": null,
   "id": "9fb44a5c",
   "metadata": {},
   "outputs": [],
   "source": []
  },
  {
   "cell_type": "code",
   "execution_count": null,
   "id": "9d5b1a9f",
   "metadata": {},
   "outputs": [],
   "source": []
  }
 ],
 "metadata": {
  "kernelspec": {
   "display_name": "Python 3 (ipykernel)",
   "language": "python",
   "name": "python3"
  },
  "language_info": {
   "codemirror_mode": {
    "name": "ipython",
    "version": 3
   },
   "file_extension": ".py",
   "mimetype": "text/x-python",
   "name": "python",
   "nbconvert_exporter": "python",
   "pygments_lexer": "ipython3",
   "version": "3.11.3"
  }
 },
 "nbformat": 4,
 "nbformat_minor": 5
}
